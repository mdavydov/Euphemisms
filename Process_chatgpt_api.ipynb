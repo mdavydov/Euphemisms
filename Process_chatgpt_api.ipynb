{
  "cells": [
    {
      "cell_type": "code",
      "execution_count": null,
      "metadata": {
        "id": "Sx2xkX3SJSmO"
      },
      "outputs": [],
      "source": [
        "import pandas as pd\n",
        "#from google.colab import userdata\n",
        "import os\n",
        "from dotenv import load_dotenv\n",
        "from openai import OpenAI\n",
        "import json\n",
        "import numpy as np\n",
        "import concurrent.futures\n",
        "\n",
        "load_dotenv()\n",
        "API_KEY = os.getenv(\"API_KEY\")\n",
        "BASE_URL = os.getenv(\"BASE_URL\")\n",
        "#print(API_KEY)"
      ]
    },
    {
      "cell_type": "code",
      "execution_count": null,
      "metadata": {
        "id": "d5Lnojp-aY2W"
      },
      "outputs": [],
      "source": [
        "VOCABULARY = \"\"\"Бавовна – іронічне позначення вибухів на території Росії або окупованих територіях, яке виникло через цензуру в російських медіа. Замінює слово «вибух» у контексті ударів по ворожих об’єктах.\n",
        "\n",
        "Двохсотий – військовий термін, що означає загиблого солдата (походить від радянської кодової назви «вантаж 200» для транспортування тіл загиблих).\n",
        "\n",
        "Приліт – потрапляння ракети, снаряду або дрону в ціль, зазвичай супроводжується вибухом.\n",
        "\n",
        "Трьохсотий – військовий термін, що означає пораненого солдата (походить від кодової назви «вантаж 300» для евакуації поранених).\n",
        "\n",
        "Прилетіти – отримати влучання ракетою чи снарядом, зазвичай використовується щодо обстрілів міст, військових об’єктів або техніки.\n",
        "\n",
        "Втомитися – евфемізм, яким часто описують стан російських систем ППО або техніки після удару ЗСУ.\n",
        "\n",
        "Пташка – безпілотник або літальний апарат, який виконує розвідувальні чи ударні завдання.\n",
        "\n",
        "Ціль – об’єкт, по якому планується завдати удару (наприклад, військова техніка, командний пункт, склад боєприпасів).\n",
        "\n",
        "Спеціальна воєнна операція – евфемістичний термін, який Росія використовує для позначення свого повномасштабного вторгнення в Україну з метою уникнення слова «війна».\n",
        "\n",
        "Щит – живий щит, тобто цивільні або мобілізовані, яких російські війська використовують для прикриття своїх позицій.\n",
        "\n",
        "Приземлити – збити ворожий літак, безпілотник чи ракету.\n",
        "\n",
        "Мопед – іронічна назва іранського дрона-камікадзе «Shahed», який використовується Росією для ударів по українській інфраструктурі (через характерний звук двигуна, схожий на мотор мопеда).\n",
        "\n",
        "Батальйон Монако – саркастичний термін для українських багатіїв та політиків, які втекли за кордон під час війни, особливо в дорогі курортні місця на кшталт Монако.\n",
        "\n",
        "Дискотека – масований обстріл або бомбардування, часто супроводжується вибухами та загравою.\n",
        "\n",
        "Зоряні війни – протиповітряний бій із застосуванням ППО, коли в небі видно сліди від збитих ракет або дронів.\n",
        "\n",
        "За рускім кораблем – скорочена форма українського військового мему «Русскій корабль, іді нах*й!», що став символом спротиву російській агресії.\n",
        "\n",
        "Дружній вогонь – випадковий обстріл своїх військ або техніки, часто через погану координацію або паніку.\n",
        "\n",
        "На концерт до Кобзона – евфемізм, який означає загибель російських військових чи командирів (Йосип Кобзон – радянський співак, що підтримував російську агресію, помер у 2018 році).\n",
        "\n",
        "Мінусувати – знищувати ворожу техніку або живу силу (наприклад, «мінуснули танк» – знищили танк).\n",
        "\n",
        "М’ясо – мобілізовані солдати, яких російське командування кидає в бій без належної підготовки та забезпечення (також відоме як «м’ясні штурми»).\n",
        "\n",
        "Відпрацювати – завдати удару по ворожій позиції або техніці (наприклад, «артилерія відпрацювала по складу БК»).\n",
        "\n",
        "Нуль – передова лінія фронту, найнебезпечніше місце, де тривають активні бойові дії.\n",
        "\n",
        "На щиті – вираз, що означає загибель військового у бою. Походить із давньої традиції, коли загиблих воїнів приносили з поля бою на щитах. У сучасному контексті використовується як синонім терміна «двохсотий».\"\"\""
      ]
    },
    {
      "cell_type": "code",
      "execution_count": null,
      "metadata": {
        "id": "IHAAEYV7lHJb"
      },
      "outputs": [],
      "source": [
        "WORD_LIST = \"бавовна, двохсотий, приліт, трьохсотий, прилетіти, втомитися, пташка, ціль, спеціальна воєнна операція, щит, приземлити, мопед, Батальон Монако, дискотека, зоряні війни, за рускім кораблем, дружній вогонь, на концерт до Кобзона, мінусувати, м’ясо, відпрацювати, нуль\""
      ]
    },
    {
      "cell_type": "code",
      "execution_count": null,
      "metadata": {
        "id": "Xwx5Tc8ekBxK"
      },
      "outputs": [],
      "source": [
        "example_strings = []\n",
        "example_labels = []"
      ]
    },
    {
      "cell_type": "code",
      "execution_count": null,
      "metadata": {
        "id": "Yz7E2nKDaori"
      },
      "outputs": [],
      "source": [
        "def print_escaped_array(string_array):\n",
        "    txt1 = '\"'\n",
        "    txt2 = '\\\\\"'\n",
        "    escaped_array = [f'\"{s.replace(txt1, txt2)}\"' for s in string_array]  # Escape quotes manually\n",
        "    formatted_output = \"\" + \",\\n\".join(escaped_array) + \"\"  # Format as array\n",
        "    return formatted_output\n",
        "\n",
        "# Function to strip everything before '[' and after ']'\n",
        "def strip_before_after_brackets(s):\n",
        "    start = s.find(\"[\")  # Find the first '['\n",
        "    end = s.rfind(\"]\")   # Find the last ']'\n",
        "\n",
        "    if start != -1 and end != -1 and start < end:\n",
        "        return s[start:end+1]  # Extract substring including brackets\n",
        "    return \"\"  # Return empty string if brackets not found\n",
        "\n",
        "\n",
        "def clean_strings(sa):\n",
        "    return [str(s).strip('\\n') for s in sa]"
      ]
    },
    {
      "cell_type": "code",
      "execution_count": null,
      "metadata": {
        "id": "oq3f1lfkPysN"
      },
      "outputs": [],
      "source": [
        "def ai_request(string, model_name, query_context):\n",
        "  client = OpenAI(api_key = API_KEY, base_url = BASE_URL)\n",
        "  completion = client.chat.completions.create(\n",
        "        model=model_name,\n",
        "        store=True,\n",
        "        messages=[\n",
        "            {\"role\": \"system\", \"content\": query_context},\n",
        "            {\"role\": \"user\", \"content\": string }\n",
        "        ]\n",
        "  )\n",
        "  print(completion.choices[0].message.content, string)\n",
        "  return completion.choices[0].message.content\n",
        "\n",
        "\n",
        "\n",
        "def get_ai_results(messages, model, query_context):\n",
        "  with concurrent.futures.ThreadPoolExecutor(max_workers=10) as executor:\n",
        "      futures = {executor.submit(ai_request, message, model, query_context): message for message in messages}\n",
        "      results = [future.result() for future in concurrent.futures.as_completed(futures)]\n",
        "\n",
        "  return [r for r in results]\n"
      ]
    },
    {
      "cell_type": "code",
      "execution_count": null,
      "metadata": {
        "id": "1UcHy6xjZXDt"
      },
      "outputs": [],
      "source": [
        "#process set of strings using ChatGPT and\n",
        "def process_with_ai(strings, labels, model_name, query_context):\n",
        "  assert(len(strings)==len(labels))\n",
        "  client = OpenAI(api_key = API_KEY, base_url = BASE_URL)\n",
        "\n",
        "  array=[]\n",
        "  replyes = []\n",
        "  TOTAL = len(strings)\n",
        "  i = 0\n",
        "  while i<TOTAL:\n",
        "    num = min(10, TOTAL-i)\n",
        "    results = get_ai_results(strings[i:i+num], model_name, query_context)\n",
        "    for r in results:\n",
        "      array.append(1 if r[0]=='1' else 0)\n",
        "      #print(r)\n",
        "    replyes.extend(results)\n",
        "    i+=num\n",
        "\n",
        "  assert( len(array) == len(strings) )\n",
        "  return (array, replyes)"
      ]
    },
    {
      "cell_type": "code",
      "execution_count": null,
      "metadata": {
        "id": "Kb4-1YAgQUkj"
      },
      "outputs": [],
      "source": [
        "def process_sheet_by_llm(df : pd.DataFrame, model_name, query_context):\n",
        "  num = min(5, df.shape[0])\n",
        "  strings = clean_strings(df.loc[0:num, 'text'])\n",
        "  labels = np.array( df.loc[0:num, 'label'], np.int8)\n",
        "  print(len(strings))\n",
        "  print(len(labels))\n",
        "  (array, replyes) = process_with_ai(strings, labels, model_name, query_context)\n",
        "  print(len(array))\n",
        "  print(len(replyes))\n",
        "  df.loc[0:num,'ai_label'] = array\n",
        "  df.loc[0:num,'ai_reply'] = replyes\n",
        "  #df.loc[0, 'text'] = \"New Text\""
      ]
    },
    {
      "cell_type": "code",
      "execution_count": null,
      "metadata": {
        "id": "FJ4UeFRkKd2n"
      },
      "outputs": [],
      "source": [
        "def process_with_model(model_name, query_context, exp_label):# Load the Excel file\n",
        "  global example_labels\n",
        "  global example_strings\n",
        "  xls = pd.ExcelFile('PETs_Ukr.xlsx')\n",
        "\n",
        "  # Display available sheet names\n",
        "  print(\"Sheet names:\", xls.sheet_names)\n",
        "\n",
        "  dfs = pd.read_excel(xls, sheet_name=None)\n",
        "\n",
        "  # Read and display all sheets\n",
        "  for sheet in xls.sheet_names[0:]:\n",
        "    if sheet=='Examples': continue\n",
        "\n",
        "    #try:\n",
        "    print(f\"\\nProcessing sheet: {sheet}\")\n",
        "    process_sheet_by_llm(dfs[sheet], model_name, query_context)\n",
        "    #except:\n",
        "    #  print(f\"Error while processing {sheet}\")\n",
        "    #  return\n",
        "\n",
        "  # Save all modified sheets back\n",
        "  with pd.ExcelWriter(f'{exp_label}-Result-{model_name}.xlsx') as writer:\n",
        "      for sheet_name, df in dfs.items():\n",
        "          df.to_excel(writer, sheet_name=sheet_name, index=False)\n",
        "\n",
        "  with open(f\"{exp_label}.txt\", 'w', encoding='utf-8') as f:\n",
        "      f.write(str(query_context))\n",
        "  "
      ]
    },
    {
      "cell_type": "code",
      "execution_count": null,
      "metadata": {},
      "outputs": [],
      "source": [
        "def print_labels_statistics():# Load the Excel file\n",
        "  xls = pd.ExcelFile('PETs_Ukr.xlsx')\n",
        "\n",
        "  # Display available sheet names\n",
        "  print(\"Sheet names:\", xls.sheet_names)\n",
        "  dfs = pd.read_excel(xls, sheet_name=None)\n",
        "\n",
        "  total = (0,0)\n",
        "\n",
        "  # Read and display all sheets\n",
        "  for sheet in xls.sheet_names:\n",
        "    if sheet=='Examples': continue\n",
        "\n",
        "    df = dfs[sheet]\n",
        "    num = df.shape[0]\n",
        "    labels = np.array( df.loc[0:num, 'label'], np.int8)\n",
        "    print(sheet, \"->\", len(labels), \" positive=\", np.sum(labels), \" ratio = \", np.sum(labels)/len(labels))\n",
        "    total = (total[0]+len(labels), total[1]+np.sum(labels))\n",
        "\n",
        "  print(\"Total ->\", total[0], \" positive=\", total[1], \" ratio = \", total[1]/total[0])\n",
        "\n",
        "\n",
        "print_labels_statistics()"
      ]
    },
    {
      "cell_type": "code",
      "execution_count": null,
      "metadata": {
        "id": "-dDFxuz4WvtQ"
      },
      "outputs": [],
      "source": [
        "\n"
      ]
    },
    {
      "cell_type": "code",
      "execution_count": null,
      "metadata": {
        "colab": {
          "background_save": true,
          "base_uri": "https://localhost:8080/"
        },
        "id": "KJkmW8t3bVYU",
        "outputId": "03bc010a-6c39-4e6f-d87c-6b34f9253537"
      },
      "outputs": [],
      "source": [
        "models = [\n",
        "    #\"deepseek-chat\"\n",
        "    #\"o3-mini\",\n",
        "    #\"o1-mini\"\n",
        "    #\"gpt-4o\",\n",
        "    \"gpt-4o-mini\",\n",
        "    #\"gpt-4-turbo\",\n",
        "    #\"gpt-4\",\n",
        "    #\"gpt-3.5-turbo\"\n",
        "]\n",
        "\n",
        "queries = [\n",
        "        \"Ти - лінгвіст, який має визначити, чи слово в кутових дужках є евфемізмом. \"\n",
        "        \"Як відповідь напиши 1, якщо слово в кутових дужках використано, як евфемізм, і 0, якщо використане в звичному значенні. \"\n",
        "        \"Також напиши один синонім або гіперонім до цього слова. \",\n",
        "\n",
        "        \"Ти - лінгвіст, який має визначити, чи слово в кутових дужках є евфемізмом. \"\n",
        "        \"Як відповідь напиши 1, якщо слово в кутових дужках використано, як евфемізм, і 0, якщо використане в звичному значенні. \"\n",
        "        \"Також напиши один синонім або гіперонім до цього слова. \"\n",
        "        \"Вважай, що ці слова є евфемізмами в контексті війни: \\n\" + VOCABULARY\n",
        "        #\"Також напиши англійською значення цього слова в реченні\"},\n",
        "        #\"Врахуй можливі значення слів у контексті україно-російської війни: \\n\" + VOCABULARY}, # voc2\n",
        "        #\"Вважай, що ці слова є евфемізмами в контексті війни: \\n\" + WORD_LIST}, #VOCABULARY},\n",
        "        #\"Вважай, що ці слова є евфемізмами в контексті війни: \\n\" + VOCABULARY},\n",
        "]\n",
        "\n",
        "exp_label = \"0001\"\n",
        "\n",
        "for model_name in models:\n",
        "  process_with_model(model_name, queries[0], exp_label)\n",
        "\n",
        "print(\"DONE!!!\")"
      ]
    }
  ],
  "metadata": {
    "colab": {
      "provenance": []
    },
    "kernelspec": {
      "display_name": "euph",
      "language": "python",
      "name": "python3"
    },
    "language_info": {
      "codemirror_mode": {
        "name": "ipython",
        "version": 3
      },
      "file_extension": ".py",
      "mimetype": "text/x-python",
      "name": "python",
      "nbconvert_exporter": "python",
      "pygments_lexer": "ipython3",
      "version": "3.13.1"
    }
  },
  "nbformat": 4,
  "nbformat_minor": 0
}
